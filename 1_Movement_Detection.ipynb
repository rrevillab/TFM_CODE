{
  "nbformat": 4,
  "nbformat_minor": 0,
  "metadata": {
    "colab": {
      "name": "Movement_Detection.ipynb",
      "provenance": [],
      "collapsed_sections": []
    },
    "kernelspec": {
      "name": "python3",
      "display_name": "Python 3"
    },
    "language_info": {
      "name": "python"
    }
  },
  "cells": [
    {
      "cell_type": "markdown",
      "source": [
        "# Import libraries"
      ],
      "metadata": {
        "id": "kQdNoHm7b3i6"
      }
    },
    {
      "cell_type": "code",
      "metadata": {
        "id": "sTWlO6wwPSpI"
      },
      "source": [
        "import numpy as np\n",
        "\n",
        "import cv2\n",
        "from google.colab.patches import cv2_imshow\n",
        "\n",
        "import time\n",
        "\n",
        "import os"
      ],
      "execution_count": null,
      "outputs": []
    },
    {
      "cell_type": "markdown",
      "source": [
        "# Connection with Google Drive"
      ],
      "metadata": {
        "id": "Xi3eUCVmcAF4"
      }
    },
    {
      "cell_type": "code",
      "metadata": {
        "colab": {
          "base_uri": "https://localhost:8080/"
        },
        "id": "PyKrQlU6PXE_",
        "outputId": "b50f022a-f27e-47be-f4a6-87abba4b42ac"
      },
      "source": [
        "from google.colab import drive\n",
        "drive.mount('/content/drive')"
      ],
      "execution_count": null,
      "outputs": [
        {
          "output_type": "stream",
          "name": "stdout",
          "text": [
            "Drive already mounted at /content/drive; to attempt to forcibly remount, call drive.mount(\"/content/drive\", force_remount=True).\n"
          ]
        }
      ]
    },
    {
      "cell_type": "markdown",
      "source": [
        "# Variables"
      ],
      "metadata": {
        "id": "qAIVEzAocHYP"
      }
    },
    {
      "cell_type": "code",
      "metadata": {
        "id": "bXOTtjWOVSyl"
      },
      "source": [
        "video_name = 'obsea'"
      ],
      "execution_count": null,
      "outputs": []
    },
    {
      "cell_type": "code",
      "source": [
        "basic_path = '/content/drive/MyDrive/'\n",
        "path_frames = basic_path + 'frames_saved/' + str(video_name) + '/'\n",
        "path_video = basic_path + 'output_videos/'"
      ],
      "metadata": {
        "id": "Ujlb9D1TcOTf"
      },
      "execution_count": null,
      "outputs": []
    },
    {
      "cell_type": "markdown",
      "source": [
        "# Functions"
      ],
      "metadata": {
        "id": "u_yQN0s9gJz4"
      }
    },
    {
      "cell_type": "code",
      "source": [
        "# This function makes a video with the images given.\n",
        "# Parameters: \n",
        "#              outvid   ->    Path where the output video will be saved\n",
        "#              images   ->    List of images to use in the video\n",
        "#              fps      ->    Frame per second\n",
        "#              size     ->    Size of each frame\n",
        "#              is_color ->    True or False\n",
        "#              format   ->    Format of the output video\n",
        "    \n",
        "def make_video(outvid, images=None, fps=30, size=None, is_color=True, format=\"FMP4\"):\n",
        "\n",
        "    from cv2 import VideoWriter, VideoWriter_fourcc, imread, resize\n",
        "\n",
        "    fourcc = VideoWriter_fourcc(*format)\n",
        "    vid = None\n",
        "\n",
        "    for image in images:\n",
        "        if not os.path.exists(image):\n",
        "            raise FileNotFoundError(image)\n",
        "        img = imread(image)\n",
        "        if vid is None:\n",
        "            if size is None:\n",
        "                size = img.shape[1], img.shape[0]\n",
        "            vid = VideoWriter(outvid, fourcc, float(fps), size, is_color)\n",
        "        if size[0] != img.shape[1] and size[1] != img.shape[0]:\n",
        "            img = resize(img, size)\n",
        "        vid.write(img)\n",
        "\n",
        "    vid.release()\n",
        "\n",
        "    return vid"
      ],
      "metadata": {
        "id": "Qp9LyJO5gKS3"
      },
      "execution_count": null,
      "outputs": []
    },
    {
      "cell_type": "markdown",
      "source": [
        "# Folder creation"
      ],
      "metadata": {
        "id": "-WqbE50TgQ3d"
      }
    },
    {
      "cell_type": "code",
      "source": [
        "os.mkdir(path_frames)"
      ],
      "metadata": {
        "id": "7MEAHz-GZaXm"
      },
      "execution_count": null,
      "outputs": []
    },
    {
      "cell_type": "markdown",
      "source": [
        "# Movement detection"
      ],
      "metadata": {
        "id": "CztNHLT_iziJ"
      }
    },
    {
      "cell_type": "code",
      "metadata": {
        "id": "TyvBQqrnPjiU"
      },
      "source": [
        "camera = cv2.VideoCapture(basic_path + video_name + '.mp4')"
      ],
      "execution_count": null,
      "outputs": []
    },
    {
      "cell_type": "code",
      "metadata": {
        "id": "SIOulIR9QvV1"
      },
      "source": [
        "background = None\n",
        "currentframe = 0"
      ],
      "execution_count": null,
      "outputs": []
    },
    {
      "cell_type": "code",
      "metadata": {
        "id": "qyZWG7CiQywY"
      },
      "source": [
        "counter = 0\n",
        "\n",
        "while True and counter <100:\n",
        "\n",
        "  counter = counter+1\n",
        "\n",
        "  (grabbed, frame) = camera.read()\n",
        "\n",
        "  if not grabbed:\n",
        "    break\n",
        "\n",
        "  gray = cv2.cvtColor(frame, cv2.COLOR_BGR2GRAY)\n",
        "\n",
        "  gray = cv2.GaussianBlur(gray, (21, 21), 0)\n",
        "\n",
        "  if background is None:\n",
        "    background = gray\n",
        "    continue\n",
        "  \n",
        "  subtraction = cv2.absdiff(background, gray)\n",
        "\n",
        "  threshold, outlinesimg = cv2.threshold(subtraction, 25, 255, cv2.THRESH_BINARY)\n",
        "\n",
        "  threshold = cv2.dilate(threshold, None, iterations = 2)\n",
        "\n",
        "  contourimg = threshold.copy()\n",
        "\n",
        "  outlines, hierarchy = cv2.findContours(outlinesimg, cv2.RETR_TREE, cv2.CHAIN_APPROX_SIMPLE)\n",
        "\n",
        "  for c in outlines:\n",
        "    if cv2.contourArea(c) < 500:\n",
        "      continue\n",
        "\n",
        "    (x, y, w, h) = cv2.boundingRect(c)\n",
        "\n",
        "    cv2.rectangle(frame, (x, y), (x+w, y+h), (0, 255, 0), 2)\n",
        "\n",
        "  cv2_imshow(frame)\n",
        "  cv2_imshow(threshold)\n",
        "  cv2_imshow(subtraction)\n",
        "  cv2_imshow(contourimg)\n",
        "\n",
        "  name = path_frames + 'frame' + str(currentframe) + '_' + video_name + '.jpg'\n",
        "  print ('Creating...' + name)\n",
        "\n",
        "  cv2.imwrite(name, frame)\n",
        "\n",
        "  currentframe = currentframe + 1\n",
        "\n",
        "  key = cv2.waitKey(1) & 0xFF\n",
        "\n",
        "  if key == ord('s'): \n",
        "    break\n",
        "\n",
        "camera.release()\n",
        "cv2.destroyAllWindows() "
      ],
      "execution_count": null,
      "outputs": []
    },
    {
      "cell_type": "markdown",
      "source": [
        "# Creating video with movement detected"
      ],
      "metadata": {
        "id": "TJteXqpup9ss"
      }
    },
    {
      "cell_type": "code",
      "metadata": {
        "id": "npiyUWuZXpyV"
      },
      "source": [
        "# Directory of images to run detection on\n",
        "images = os.listdir(path_frames)"
      ],
      "execution_count": null,
      "outputs": []
    },
    {
      "cell_type": "code",
      "metadata": {
        "id": "_s8SsgbktQO2"
      },
      "source": [
        "new_images = []\n",
        "\n",
        "for image in images:\n",
        "  new_images.append(path_frames + image)"
      ],
      "execution_count": null,
      "outputs": []
    },
    {
      "cell_type": "code",
      "metadata": {
        "id": "ZoRUKqP3rJNI"
      },
      "source": [
        "outvid = os.path.join(path_video, video_name + \"_out.mp4\")"
      ],
      "execution_count": null,
      "outputs": []
    },
    {
      "cell_type": "code",
      "metadata": {
        "id": "Nuz5kF0YrC_L"
      },
      "source": [
        "make_video(outvid, new_images, fps=30)"
      ],
      "execution_count": null,
      "outputs": []
    }
  ]
}